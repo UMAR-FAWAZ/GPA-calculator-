{
 "cells": [
  {
   "cell_type": "code",
   "execution_count": null,
   "metadata": {},
   "outputs": [],
   "source": [
    "# Define a dictionary to map letter grades to grade points\n",
    "grade_points = {\"A\": 4.0, \"B+\": 3.5, \"B\": 3.0, \"C+\": 2.5, \"C\": 2.0, \"D+\": 1.5, \"D\": 1.0, \"E\": 0.5, \"F\": 0.0}\n",
    "\n",
    "def calculate_gpa(course_data):\n",
    "    total_credits = 0\n",
    "    weighted_grade_points = 0\n",
    "\n",
    "    for course, credit_hours, letter_grade in course_data:\n",
    "        if letter_grade in grade_points:\n",
    "            grade_point = grade_points[letter_grade]\n",
    "            total_credits += credit_hours\n",
    "            weighted_grade_points += credit_hours * grade_point\n",
    "            print(f\"{course}: {letter_grade} ({credit_hours} credit hours)\")\n",
    "        else:\n",
    "            print(f\"Invalid grade for {course}. Skipping.\")\n",
    "\n",
    "    if total_credits == 0:\n",
    "        return 0.0  # Avoid division by zero\n",
    "\n",
    "    gpa = weighted_grade_points / total_credits\n",
    "    return gpa\n",
    "\n",
    "def main():\n",
    "    print(\"GPA Calculator\")\n",
    "    course_data = []\n",
    "\n",
    "    while True:\n",
    "        course = input(\"Enter course name: \")\n",
    "        if course.lower() == \"done\":\n",
    "            break\n",
    "\n",
    "        try:\n",
    "            credit_hours = float(input(\"Enter credit hours for the course: \"))\n",
    "            letter_grade = input(\"Enter the letter grade for the course: \").upper()\n",
    "            course_data.append((course, credit_hours, letter_grade))\n",
    "        except ValueError:\n",
    "            print(\"Invalid input. Please enter numeric credit hours.\")\n",
    "\n",
    "    if not course_data:\n",
    "        print(\"No courses entered. Exiting.\")\n",
    "    else:\n",
    "        gpa = calculate_gpa(course_data)\n",
    "        print(f\"Your GPA is: {gpa:.2f}\")\n",
    "        \n",
    "if __name__ == \"__main__\":\n",
    "    main()\n"
   ]
  }
 ],
 "metadata": {
  "language_info": {
   "name": "python"
  },
  "orig_nbformat": 4
 },
 "nbformat": 4,
 "nbformat_minor": 2
}
